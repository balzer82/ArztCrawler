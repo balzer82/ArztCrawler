{
 "metadata": {
  "name": "",
  "signature": "sha256:97c41f8be599244843b4facc3e5080ba800886ff50e67c401767efc98521bfc4"
 },
 "nbformat": 3,
 "nbformat_minor": 0,
 "worksheets": [
  {
   "cells": [
    {
     "cell_type": "heading",
     "level": 2,
     "metadata": {},
     "source": [
      "Scraper f\u00fcr http://www.kvs-sachsen.de/arztsuche/"
     ]
    },
    {
     "cell_type": "code",
     "collapsed": false,
     "input": [
      "import requests\n",
      "from bs4 import BeautifulSoup"
     ],
     "language": "python",
     "metadata": {},
     "outputs": [],
     "prompt_number": 256
    },
    {
     "cell_type": "code",
     "collapsed": false,
     "input": [
      "searchurl = 'http://www.kvs-sachsen.de/arztsuche/pages/search.jsf'"
     ],
     "language": "python",
     "metadata": {},
     "outputs": [],
     "prompt_number": 257
    },
    {
     "cell_type": "code",
     "collapsed": false,
     "input": [
      "s = requests.session()"
     ],
     "language": "python",
     "metadata": {},
     "outputs": [],
     "prompt_number": 258
    },
    {
     "cell_type": "code",
     "collapsed": false,
     "input": [
      "data = 'p-additional_collapsed=true&additionalName_focus=&permittedService=selectTree_selection&time-afternoon_input=on&specialismRoot=search.subject.specialismRoot.any&p-surgery_collapsed=true&street=&days-mon_input=on&searchButton=&distance_input=-SAXONY-&p-empowerment_collapsed=true&days-thu_input=on&days-fri_input=on&specialismDetail=selectTree_selection&accessibility_input=-UNSELECTED-&days-sun_input=on&firstName=&p-subject_collapsed=false&accessibility_focus=&days-sat_input=on&p-common_collapsed=false&days-tue_input=on&distance_focus=&foreignLanguage_focus=&days-all_input=on&location-postal-combination=&days-wed_input=on&plz_input=01277&lastName=&foreignLanguage_input=-UNSELECTED-&additionalName_input=-UNSELECTED-&location_input=&displayEmpowered=no&time-morning_input=on'"
     ],
     "language": "python",
     "metadata": {},
     "outputs": [],
     "prompt_number": 259
    },
    {
     "cell_type": "code",
     "collapsed": false,
     "input": [
      "datasplit = data.split('&')\n",
      "datasplit"
     ],
     "language": "python",
     "metadata": {},
     "outputs": [
      {
       "metadata": {},
       "output_type": "pyout",
       "prompt_number": 260,
       "text": [
        "['p-additional_collapsed=true',\n",
        " 'additionalName_focus=',\n",
        " 'permittedService=selectTree_selection',\n",
        " 'time-afternoon_input=on',\n",
        " 'specialismRoot=search.subject.specialismRoot.any',\n",
        " 'p-surgery_collapsed=true',\n",
        " 'street=',\n",
        " 'days-mon_input=on',\n",
        " 'searchButton=',\n",
        " 'distance_input=-SAXONY-',\n",
        " 'p-empowerment_collapsed=true',\n",
        " 'days-thu_input=on',\n",
        " 'days-fri_input=on',\n",
        " 'specialismDetail=selectTree_selection',\n",
        " 'accessibility_input=-UNSELECTED-',\n",
        " 'days-sun_input=on',\n",
        " 'firstName=',\n",
        " 'p-subject_collapsed=false',\n",
        " 'accessibility_focus=',\n",
        " 'days-sat_input=on',\n",
        " 'p-common_collapsed=false',\n",
        " 'days-tue_input=on',\n",
        " 'distance_focus=',\n",
        " 'foreignLanguage_focus=',\n",
        " 'days-all_input=on',\n",
        " 'location-postal-combination=',\n",
        " 'days-wed_input=on',\n",
        " 'plz_input=01277',\n",
        " 'lastName=',\n",
        " 'foreignLanguage_input=-UNSELECTED-',\n",
        " 'additionalName_input=-UNSELECTED-',\n",
        " 'location_input=',\n",
        " 'displayEmpowered=no',\n",
        " 'time-morning_input=on']"
       ]
      }
     ],
     "prompt_number": 260
    },
    {
     "cell_type": "code",
     "collapsed": false,
     "input": [
      "formdata = {}\n",
      "for d in datasplit:\n",
      "    formfield = d.split('=')\n",
      "    print formfield\n",
      "    try:\n",
      "        formdata[formfield[0]] = formfield[1]\n",
      "    except:\n",
      "        continue"
     ],
     "language": "python",
     "metadata": {},
     "outputs": [
      {
       "output_type": "stream",
       "stream": "stdout",
       "text": [
        "['p-additional_collapsed', 'true']\n",
        "['additionalName_focus', '']\n",
        "['permittedService', 'selectTree_selection']\n",
        "['time-afternoon_input', 'on']\n",
        "['specialismRoot', 'search.subject.specialismRoot.any']\n",
        "['p-surgery_collapsed', 'true']\n",
        "['street', '']\n",
        "['days-mon_input', 'on']\n",
        "['searchButton', '']\n",
        "['distance_input', '-SAXONY-']\n",
        "['p-empowerment_collapsed', 'true']\n",
        "['days-thu_input', 'on']\n",
        "['days-fri_input', 'on']\n",
        "['specialismDetail', 'selectTree_selection']\n",
        "['accessibility_input', '-UNSELECTED-']\n",
        "['days-sun_input', 'on']\n",
        "['firstName', '']\n",
        "['p-subject_collapsed', 'false']\n",
        "['accessibility_focus', '']\n",
        "['days-sat_input', 'on']\n",
        "['p-common_collapsed', 'false']\n",
        "['days-tue_input', 'on']\n",
        "['distance_focus', '']\n",
        "['foreignLanguage_focus', '']\n",
        "['days-all_input', 'on']\n",
        "['location-postal-combination', '']\n",
        "['days-wed_input', 'on']\n",
        "['plz_input', '01277']\n",
        "['lastName', '']\n",
        "['foreignLanguage_input', '-UNSELECTED-']\n",
        "['additionalName_input', '-UNSELECTED-']\n",
        "['location_input', '']\n",
        "['displayEmpowered', 'no']\n",
        "['time-morning_input', 'on']\n"
       ]
      }
     ],
     "prompt_number": 261
    },
    {
     "cell_type": "code",
     "collapsed": false,
     "input": [
      "formdata"
     ],
     "language": "python",
     "metadata": {},
     "outputs": [
      {
       "metadata": {},
       "output_type": "pyout",
       "prompt_number": 262,
       "text": [
        "{'accessibility_focus': '',\n",
        " 'accessibility_input': '-UNSELECTED-',\n",
        " 'additionalName_focus': '',\n",
        " 'additionalName_input': '-UNSELECTED-',\n",
        " 'days-all_input': 'on',\n",
        " 'days-fri_input': 'on',\n",
        " 'days-mon_input': 'on',\n",
        " 'days-sat_input': 'on',\n",
        " 'days-sun_input': 'on',\n",
        " 'days-thu_input': 'on',\n",
        " 'days-tue_input': 'on',\n",
        " 'days-wed_input': 'on',\n",
        " 'displayEmpowered': 'no',\n",
        " 'distance_focus': '',\n",
        " 'distance_input': '-SAXONY-',\n",
        " 'firstName': '',\n",
        " 'foreignLanguage_focus': '',\n",
        " 'foreignLanguage_input': '-UNSELECTED-',\n",
        " 'lastName': '',\n",
        " 'location-postal-combination': '',\n",
        " 'location_input': '',\n",
        " 'p-additional_collapsed': 'true',\n",
        " 'p-common_collapsed': 'false',\n",
        " 'p-empowerment_collapsed': 'true',\n",
        " 'p-subject_collapsed': 'false',\n",
        " 'p-surgery_collapsed': 'true',\n",
        " 'permittedService': 'selectTree_selection',\n",
        " 'plz_input': '01277',\n",
        " 'searchButton': '',\n",
        " 'specialismDetail': 'selectTree_selection',\n",
        " 'specialismRoot': 'search.subject.specialismRoot.any',\n",
        " 'street': '',\n",
        " 'time-afternoon_input': 'on',\n",
        " 'time-morning_input': 'on'}"
       ]
      }
     ],
     "prompt_number": 262
    },
    {
     "cell_type": "code",
     "collapsed": false,
     "input": [
      "r = s.post(searchurl, params=formdata)\n",
      "print(r.url)"
     ],
     "language": "python",
     "metadata": {},
     "outputs": [
      {
       "output_type": "stream",
       "stream": "stdout",
       "text": [
        "http://www.kvs-sachsen.de/arztsuche/pages/search.jsf?p-additional_collapsed=true&additionalName_focus=&searchButton=&permittedService=selectTree_selection&specialismRoot=search.subject.specialismRoot.any&p-surgery_collapsed=true&street=&days-mon_input=on&distance_input=-SAXONY-&p-empowerment_collapsed=true&days-thu_input=on&days-fri_input=on&specialismDetail=selectTree_selection&accessibility_input=-UNSELECTED-&days-sun_input=on&firstName=&p-subject_collapsed=false&accessibility_focus=&days-sat_input=on&p-common_collapsed=false&days-tue_input=on&distance_focus=&foreignLanguage_focus=&time-afternoon_input=on&days-all_input=on&location-postal-combination=&days-wed_input=on&plz_input=01277&lastName=&foreignLanguage_input=-UNSELECTED-&additionalName_input=-UNSELECTED-&location_input=&displayEmpowered=no&time-morning_input=on\n"
       ]
      }
     ],
     "prompt_number": 263
    },
    {
     "cell_type": "code",
     "collapsed": false,
     "input": [
      "#print 'cookies:', requests.utils.dict_from_cookiejar(s.cookies)\n",
      "cookie={}\n",
      "cookie['JSESSIONID'] = s.cookies['JSESSIONID']\n",
      "cookie['PHPSESSID'] = 'd77901m7eun4b8vj7lh3q1fngnak8sm9'\n",
      "cookie['_pk_ref.1.2219'] = '%5B%22%22%2C%22%22%2C1406882756%2C%22http%3A%2F%2Fwww.kbv.de%2Fhtml%2Farztsuche.php%22%5D'\n",
      "cookie['_pk_id.1.2219'] = '7a033f237c7bb7f6.1406882756.1.1406884688.1406882756.'\n",
      "\n",
      "cookie"
     ],
     "language": "python",
     "metadata": {},
     "outputs": [
      {
       "metadata": {},
       "output_type": "pyout",
       "prompt_number": 264,
       "text": [
        "{'JSESSIONID': '5EAED8D5CE284500F3AE548515893727',\n",
        " 'PHPSESSID': 'd77901m7eun4b8vj7lh3q1fngnak8sm9',\n",
        " '_pk_id.1.2219': '7a033f237c7bb7f6.1406882756.1.1406884688.1406882756.',\n",
        " '_pk_ref.1.2219': '%5B%22%22%2C%22%22%2C1406882756%2C%22http%3A%2F%2Fwww.kbv.de%2Fhtml%2Farztsuche.php%22%5D'}"
       ]
      }
     ],
     "prompt_number": 264
    },
    {
     "cell_type": "code",
     "collapsed": false,
     "input": [
      "header = {'User-Agent': 'Mozilla/5.0 (Macintosh; Intel Mac OS X 10_9_4) AppleWebKit/537.36 (KHTML, like Gecko) Chrome/36.0.1985.125 Safari/537.36',\n",
      "          'referer': r.url,\n",
      "          'Connection': 'keep-alive',\n",
      "          'Accept': 'text/html,application/xhtml+xml,application/xml;q=0.9,image/webp,*/*;q=0.8',\n",
      "          'Cache-Control': 'max-age=0'}\n",
      "\n",
      "arzte = requests.get('http://www.kvs-sachsen.de/arztsuche/pages/list.jsf', cookies=cookie, headers=header)\n",
      "print(arzte.url)"
     ],
     "language": "python",
     "metadata": {},
     "outputs": [
      {
       "output_type": "stream",
       "stream": "stdout",
       "text": [
        "http://www.kvs-sachsen.de/arztsuche/pages/error.viewExpired.jsf\n"
       ]
      }
     ],
     "prompt_number": 265
    },
    {
     "cell_type": "markdown",
     "metadata": {},
     "source": [
      "Hm. Irgendwie klappt die Sache mit dem Cookie oder sowas nicht."
     ]
    },
    {
     "cell_type": "code",
     "collapsed": false,
     "input": [
      "soup = BeautifulSoup(arzte.text)"
     ],
     "language": "python",
     "metadata": {},
     "outputs": [],
     "prompt_number": 266
    },
    {
     "cell_type": "code",
     "collapsed": false,
     "input": [
      "print(soup.prettify())"
     ],
     "language": "python",
     "metadata": {},
     "outputs": [
      {
       "output_type": "stream",
       "stream": "stdout",
       "text": [
        "<!DOCTYPE html>\n",
        "<html xmlns=\"http://www.w3.org/1999/xhtml\">\n",
        " <head>\n",
        "  <link href=\"/arztsuche/javax.faces.resource/theme.css.jsf?ln=primefaces-kvs\" rel=\"stylesheet\" type=\"text/css\"/>\n",
        "  <link href=\"/arztsuche/javax.faces.resource/primefaces.css.jsf?ln=primefaces&amp;v=5.0\" rel=\"stylesheet\" type=\"text/css\"/>\n",
        "  <script src=\"/arztsuche/javax.faces.resource/jquery/jquery.js.jsf?ln=primefaces&amp;v=5.0\" type=\"text/javascript\">\n",
        "  </script>\n",
        "  <script src=\"/arztsuche/javax.faces.resource/jquery/jquery-plugins.js.jsf?ln=primefaces&amp;v=5.0\" type=\"text/javascript\">\n",
        "  </script>\n",
        "  <script src=\"/arztsuche/javax.faces.resource/primefaces.js.jsf?ln=primefaces&amp;v=5.0\" type=\"text/javascript\">\n",
        "  </script>\n",
        "  <link href=\"/arztsuche/javax.faces.resource/asu.css.jsf?ln=css\" rel=\"stylesheet\" type=\"text/css\"/>\n",
        "  <title>\n",
        "   Arztsuche KVS\n",
        "  </title>\n",
        "  <meta content=\"text/html; charset=utf-8\" http-equiv=\"Content-Type\"/>\n",
        "  <link href=\"/arztsuche/resources/icons/favicon.icon\" rel=\"shortcut icon\" type=\"image/x-icon\"/>\n",
        " </head>\n",
        " <body>\n",
        "  <table class=\"fill-out\">\n",
        "   <tbody>\n",
        "    <tr>\n",
        "     <td class=\"border\">\n",
        "      <div>\n",
        "      </div>\n",
        "     </td>\n",
        "     <td class=\"frame\">\n",
        "      <table class=\"fill-out\">\n",
        "       <thead>\n",
        "        <tr>\n",
        "         <th class=\"logo\" colspan=\"2\" scope=\"colgroup\">\n",
        "          <img src=\"/arztsuche/javax.faces.resource/kvs-asu-logo.jpg.jsf?ln=icons\"/>\n",
        "         </th>\n",
        "        </tr>\n",
        "       </thead>\n",
        "       <tbody>\n",
        "        <tr class=\"header-row\">\n",
        "         <td class=\"left-sidebar-column\">\n",
        "          <img alt=\"\" id=\"j_idt10\" src=\"/arztsuche/javax.faces.resource/spacer/dot_clear.gif.jsf?ln=primefaces&amp;v=5.0\"/>\n",
        "         </td>\n",
        "         <td class=\"content-column\">\n",
        "          <table class=\"fill-out\">\n",
        "           <tbody>\n",
        "            <tr>\n",
        "             <td class=\"header-subtitle\">\n",
        "              Suche nach \u00c4rzten und Psychotherapeuten in Sachsen\n",
        "             </td>\n",
        "             <td class=\"header-log\">\n",
        "              <img alt=\"\" id=\"j_idt13\" src=\"/arztsuche/javax.faces.resource/spacer/dot_clear.gif.jsf?ln=primefaces&amp;v=5.0\"/>\n",
        "             </td>\n",
        "            </tr>\n",
        "           </tbody>\n",
        "          </table>\n",
        "         </td>\n",
        "        </tr>\n",
        "        <tr class=\" content-row\">\n",
        "         <td class=\"left-sidebar-column\">\n",
        "          <img alt=\"\" id=\"j_idt14\" src=\"/arztsuche/javax.faces.resource/spacer/dot_clear.gif.jsf?ln=primefaces&amp;v=5.0\"/>\n",
        "         </td>\n",
        "         <td class=\"content-column\">\n",
        "          <span id=\"asu-content-container\">\n",
        "           <div class=\"asu-template\">\n",
        "            <div aria-live=\"polite\" class=\"ui-messages ui-widget\" id=\"asu_messages\">\n",
        "            </div>\n",
        "           </div>\n",
        "           <div class=\"asu-template\">\n",
        "            <form action=\"/arztsuche/pages/error.viewExpired.jsf\" enctype=\"application/x-www-form-urlencoded\" id=\"errorForm\" method=\"post\" name=\"errorForm\">\n",
        "             <input name=\"errorForm\" type=\"hidden\" value=\"errorForm\"/>\n",
        "             <div class=\"ui-panel ui-widget ui-widget-content ui-corner-all asu-error-page\" data-widget=\"widget_errorForm_j_idt17\" id=\"errorForm:j_idt17\">\n",
        "              <div class=\"ui-panel-content ui-widget-content\" id=\"errorForm:j_idt17_content\">\n",
        "               <table class=\"ui-panelgrid ui-widget\" id=\"errorForm:j_idt18\" role=\"grid\">\n",
        "                <tbody>\n",
        "                 <tr class=\"ui-widget-content\" role=\"row\">\n",
        "                  <td class=\"ui-panelgrid-cell\" role=\"gridcell\">\n",
        "                   <img alt=\"\" class=\"asu-error-page-spacer\" id=\"errorForm:j_idt19\" src=\"/arztsuche/javax.faces.resource/spacer/dot_clear.gif.jsf?ln=primefaces&amp;v=5.0\"/>\n",
        "                  </td>\n",
        "                 </tr>\n",
        "                 <tr class=\"ui-widget-content\" role=\"row\">\n",
        "                  <td class=\"ui-panelgrid-cell\" role=\"gridcell\">\n",
        "                   <button class=\"ui-button ui-widget ui-state-default ui-corner-all ui-button-text-only\" id=\"errorForm:j_idt20\" name=\"errorForm:j_idt20\" onclick=\"\" style=\"white-space: pre;\" type=\"submit\">\n",
        "                    <span class=\"ui-button-text ui-c\">\n",
        "                     Ihre Sitzung ist abgelaufen. \n",
        " Bitte f\u00fchren Sie Ihre Suche erneut durch.\n",
        "                    </span>\n",
        "                   </button>\n",
        "                   <script id=\"errorForm:j_idt20_s\" type=\"text/javascript\">\n",
        "                    PrimeFaces.cw(\"CommandButton\",\"widget_errorForm_j_idt20\",{id:\"errorForm:j_idt20\",widgetVar:\"widget_errorForm_j_idt20\"});\n",
        "                   </script>\n",
        "                  </td>\n",
        "                 </tr>\n",
        "                </tbody>\n",
        "               </table>\n",
        "              </div>\n",
        "             </div>\n",
        "             <script id=\"errorForm:j_idt17_s\" type=\"text/javascript\">\n",
        "              PrimeFaces.cw(\"Panel\",\"widget_errorForm_j_idt17\",{id:\"errorForm:j_idt17\",widgetVar:\"widget_errorForm_j_idt17\"});\n",
        "             </script>\n",
        "             <input autocomplete=\"off\" id=\"j_id1:javax.faces.ViewState:0\" name=\"javax.faces.ViewState\" type=\"hidden\" value=\"1127928923326928229:9104217743114980531\"/>\n",
        "            </form>\n",
        "           </div>\n",
        "          </span>\n",
        "         </td>\n",
        "        </tr>\n",
        "       </tbody>\n",
        "      </table>\n",
        "     </td>\n",
        "     <td class=\"border\">\n",
        "      <div>\n",
        "      </div>\n",
        "     </td>\n",
        "    </tr>\n",
        "   </tbody>\n",
        "  </table>\n",
        " </body>\n",
        "</html>\n"
       ]
      }
     ],
     "prompt_number": 267
    },
    {
     "cell_type": "code",
     "collapsed": false,
     "input": [],
     "language": "python",
     "metadata": {},
     "outputs": [],
     "prompt_number": 267
    },
    {
     "cell_type": "code",
     "collapsed": false,
     "input": [],
     "language": "python",
     "metadata": {},
     "outputs": [],
     "prompt_number": 267
    }
   ],
   "metadata": {}
  }
 ]
}